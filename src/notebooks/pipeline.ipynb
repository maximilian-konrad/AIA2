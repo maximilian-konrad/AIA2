{
 "cells": [
  {
   "cell_type": "code",
   "execution_count": 17,
   "metadata": {
    "ExecuteTime": {
     "end_time": "2025-02-04T13:28:09.039063Z",
     "start_time": "2025-02-04T13:28:08.597016Z"
    }
   },
   "outputs": [
    {
     "name": "stdout",
     "output_type": "stream",
     "text": [
      "The autoreload extension is already loaded. To reload it, use:\n",
      "  %reload_ext autoreload\n",
      "Initialized AIA pipeline with config: {'resize_percent': 80, 'evaluate_brisque': True, 'evaluate_sharpness': True, 'incl_summary_stats': True}\n"
     ]
    }
   ],
   "source": [
    "%load_ext autoreload\n",
    "%autoreload 2\n",
    "\n",
    "import sys\n",
    "import os\n",
    "\n",
    "# add the path to the sys.path\n",
    "sys.path.append('..')\n",
    "import AIA\n",
    "\n",
    "config = {\n",
    "    'resize_percent': 80,\n",
    "    'evaluate_brisque': True,\n",
    "    'evaluate_sharpness': True,\n",
    "    'incl_summary_stats': True\n",
    "}\n",
    "\n",
    "aia = AIA.AIA(config)"
   ]
  },
  {
   "cell_type": "code",
   "execution_count": 18,
   "metadata": {
    "ExecuteTime": {
     "start_time": "2025-02-04T13:28:21.891350Z"
    },
    "jupyter": {
     "is_executing": true
    }
   },
   "outputs": [
    {
     "name": "stdout",
     "output_type": "stream",
     "text": [
      "Processing batch of n=12 images\n",
      "Processing get_figure_ground_relationship_features()\n"
     ]
    },
    {
     "name": "stderr",
     "output_type": "stream",
     "text": [
      "100%|██████████| 12/12 [00:00<00:00, 21.24it/s]"
     ]
    },
    {
     "name": "stdout",
     "output_type": "stream",
     "text": [
      "Time for get_figure_ground_relationship_features(): 0.5693 seconds\n",
      "Results saved to: /home/h039y17/Projects/AIA2/outputs/results.xlsx\n"
     ]
    },
    {
     "name": "stderr",
     "output_type": "stream",
     "text": [
      "\n"
     ]
    }
   ],
   "source": [
    "base_dir = os.path.abspath(os.path.join(os.getcwd(), '..', '..'))\n",
    "img_dir = os.path.join(base_dir, 'data', 'test_images')\n",
    "\n",
    "# Get a list of all image files in the directory (only PNG, JPG, JPEG, WEBP formats)\n",
    "img_files_list = [os.path.join(img_dir, f) for f in os.listdir(img_dir) if f.lower().endswith(('.jpg', '.jpeg', '.png', '.bmp', '.tiff', '.tif', '.webp', '.ppm', '.pgm', '.pbm', '.gif', '.hdr', '.exr'))]\n",
    "\n",
    "results = aia.process_batch(img_files_list)\n",
    "aia.save_results(results)"
   ]
  },
  {
   "cell_type": "code",
   "execution_count": 19,
   "metadata": {},
   "outputs": [],
   "source": [
    "#aia.generate_pdf_from_excel('results.xlsx','exemplary_images.pdf')"
   ]
  }
 ],
 "metadata": {
  "kernelspec": {
   "display_name": "aia",
   "language": "python",
   "name": "python3"
  },
  "language_info": {
   "codemirror_mode": {
    "name": "ipython",
    "version": 3
   },
   "file_extension": ".py",
   "mimetype": "text/x-python",
   "name": "python",
   "nbconvert_exporter": "python",
   "pygments_lexer": "ipython3",
   "version": "3.10.14"
  }
 },
 "nbformat": 4,
 "nbformat_minor": 2
}
