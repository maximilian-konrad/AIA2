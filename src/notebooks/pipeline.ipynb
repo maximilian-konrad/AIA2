{
 "cells": [
  {
   "cell_type": "code",
   "metadata": {
    "ExecuteTime": {
     "end_time": "2025-02-04T13:28:09.039063Z",
     "start_time": "2025-02-04T13:28:08.597016Z"
    }
   },
   "source": [
    "%load_ext autoreload\n",
    "%autoreload 2\n",
    "\n",
    "import sys\n",
    "import os\n",
    "\n",
    "# add the path to the sys.path\n",
    "sys.path.append('..')\n",
    "import AIA"
   ],
   "outputs": [
    {
     "name": "stdout",
     "output_type": "stream",
     "text": [
      "The autoreload extension is already loaded. To reload it, use:\n",
      "  %reload_ext autoreload\n"
     ]
    }
   ],
   "execution_count": 5
  },
  {
   "cell_type": "code",
   "metadata": {
    "jupyter": {
     "is_executing": true
    },
    "ExecuteTime": {
     "start_time": "2025-02-04T13:28:21.891350Z"
    }
   },
   "source": [
    "config = {\n",
    "    'resize_percent': 80,\n",
    "    'evaluate_brisque': True,\n",
    "    'evaluate_sharpness': True\n",
    "}\n",
    "aia = AIA.AIA(config)\n",
    "\n",
    "base_dir = os.path.abspath(os.path.join(os.getcwd(), '..', '..'))\n",
    "test_images_dir = os.path.join(base_dir, 'data', 'test_images')\n",
    "\n",
    "results = aia.process_batch(test_images_dir)\n",
    "aia.save_results(results)"
   ],
   "outputs": [
    {
     "name": "stdout",
     "output_type": "stream",
     "text": [
      "Initialized AIA pipeline with config: {'resize_percent': 80, 'evaluate_brisque': True, 'evaluate_sharpness': True}\n",
      "Processing batch of n=6 images from: H:\\Desktop\\AIA2\\data\\test_images\n",
      "Processing get_color_features()\n"
     ]
    },
    {
     "name": "stderr",
     "output_type": "stream",
     "text": [
      "Processing Images:   0%|          | 0/6 [00:00<?, ?it/s]"
     ]
    }
   ],
   "execution_count": null
  }
 ],
 "metadata": {
  "kernelspec": {
   "display_name": "aia",
   "language": "python",
   "name": "python3"
  },
  "language_info": {
   "codemirror_mode": {
    "name": "ipython",
    "version": 3
   },
   "file_extension": ".py",
   "mimetype": "text/x-python",
   "name": "python",
   "nbconvert_exporter": "python",
   "pygments_lexer": "ipython3",
   "version": "3.10.14"
  }
 },
 "nbformat": 4,
 "nbformat_minor": 2
}
